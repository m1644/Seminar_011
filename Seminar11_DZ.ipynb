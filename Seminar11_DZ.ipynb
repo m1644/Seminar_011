{
  "nbformat": 4,
  "nbformat_minor": 0,
  "metadata": {
    "colab": {
      "provenance": [],
      "authorship_tag": "ABX9TyOD2D4s3vMkdX+nJFMJq4qH",
      "include_colab_link": true
    },
    "kernelspec": {
      "name": "python3",
      "display_name": "Python 3"
    },
    "language_info": {
      "name": "python"
    }
  },
  "cells": [
    {
      "cell_type": "markdown",
      "metadata": {
        "id": "view-in-github",
        "colab_type": "text"
      },
      "source": [
        "<a href=\"https://colab.research.google.com/github/m1644/Seminar_011/blob/seminar_dz/Seminar11_DZ.ipynb\" target=\"_parent\"><img src=\"https://colab.research.google.com/assets/colab-badge.svg\" alt=\"Open In Colab\"/></a>"
      ]
    },
    {
      "cell_type": "markdown",
      "source": [
        "Дана функция: f(x) = -12x^4*sin(cos(x)) - 18x^3+5x^2 + 10x - 30\n",
        "1. Определить корни\n",
        "2. Найти интервалы, на которых функция возрастает\n",
        "3. Найти интервалы, на которых функция убывает\n",
        "4. Построить график\n",
        "5. Вычислить вершину\n",
        "6. Определить промежутки, на котором f > 0\n",
        "7. Определить промежутки, на котором f < 0"
      ],
      "metadata": {
        "id": "RJN9L4PBBSvm"
      }
    },
    {
      "cell_type": "code",
      "execution_count": 11,
      "metadata": {
        "colab": {
          "base_uri": "https://localhost:8080/",
          "height": 38
        },
        "id": "FwJlbSB5ACo7",
        "outputId": "073acaea-779f-4077-a117-15444aed8721"
      },
      "outputs": [
        {
          "output_type": "execute_result",
          "data": {
            "text/plain": [
              "ConditionSet(x, Eq(-12*x**4*sin(cos(x)) - 18*x**3 + 5*x**2 + 10*x - 30, 0), Reals)"
            ],
            "text/latex": "$\\displaystyle \\left\\{x \\mid x \\in \\mathbb{R} \\wedge - 12 x^{4} \\sin{\\left(\\cos{\\left(x \\right)} \\right)} - 18 x^{3} + 5 x^{2} + 10 x - 30 = 0 \\right\\}$"
          },
          "metadata": {},
          "execution_count": 11
        }
      ],
      "source": [
        "from sympy import *\n",
        "from sympy.abc import x\n",
        "import matplotlib.pyplot as plt\n",
        "\n",
        "\n",
        "expr = -12*(x**4)*sin(cos(x))-18*x**3+5*x**2+10*x-30\n",
        "precision = 100\n",
        "start = -3\n",
        "end = 3\n",
        "\n",
        "xs = [x/precision for x in range(start*precision, end*precision + 1)]\n",
        "ys = [expr.subs(x, value) for value in xs]\n",
        "points = list(zip(xs, ys))\n",
        "\n",
        "solveset(-12*(x**4)*sin(cos(x))-18*x**3+5*x**2+10*x-30, x, domain=Reals)"
      ]
    },
    {
      "cell_type": "code",
      "source": [
        "points = list(zip(xs, ys))\n",
        "increasing, decreasing = [], []\n",
        "flag_increase = True\n",
        "while len(points) >= 2:\n",
        "    counter = 0\n",
        "    if flag_increase:\n",
        "        while points[counter][0] < end and points[counter + 1][1] > points[counter][1]:\n",
        "            counter += 1\n",
        "        if counter != 0:\n",
        "            increasing.append([points[0][0], points[counter][0]])\n",
        "        flag_increase = False\n",
        "    else:\n",
        "        while points[counter][0] < end and points[counter + 1][1] < points[counter][1]:\n",
        "            counter += 1\n",
        "        if counter != 0:\n",
        "            decreasing.append([points[0][0], points[counter][0]])\n",
        "        flag_increase = True\n",
        "    del points[:counter]\n",
        "\n",
        "print(\"Интервалы возрастания:\")\n",
        "print(*increasing)\n",
        "print(\"Интервалы убывания:\")\n",
        "print(*decreasing)"
      ],
      "metadata": {
        "colab": {
          "base_uri": "https://localhost:8080/"
        },
        "id": "GwrCGD1kAp6R",
        "outputId": "325be7c7-84b3-4b16-a71c-ac1060a3beee"
      },
      "execution_count": 6,
      "outputs": [
        {
          "output_type": "stream",
          "name": "stdout",
          "text": [
            "Интервалы возрастания:\n",
            "[-0.39, 0.45] [1.7, 3.0]\n",
            "Интервалы убывания:\n",
            "[-3.0, -0.39] [0.45, 1.7]\n"
          ]
        }
      ]
    },
    {
      "cell_type": "code",
      "source": [
        "import matplotlib.pyplot as plt\n",
        "\n",
        "x = [-12*x**4*sin(cos(x))-18*x**3+5*x**2+10*x-30 for x in range(-50, 51)]\n",
        "y = [y for y in range(-50, 51)]\n",
        "plt.plot(y, x)\n",
        "plt.show()"
      ],
      "metadata": {
        "colab": {
          "base_uri": "https://localhost:8080/",
          "height": 276
        },
        "id": "lUQkmeflBQmm",
        "outputId": "cfbd6ea6-ce59-40b3-85ca-4b81feaabc09"
      },
      "execution_count": 10,
      "outputs": [
        {
          "output_type": "display_data",
          "data": {
            "text/plain": [
              "<Figure size 432x288 with 1 Axes>"
            ],
            "image/png": "[encoded data removed]"
          },
          "metadata": {
            "needs_background": "light"
          }
        }
      ]
    },
    {
      "cell_type": "code",
      "source": [
        "points = list(zip(xs, ys))\n",
        "extrema = []\n",
        "flag_incr = True\n",
        "prior = points[0]\n",
        "for current in points[1:]:\n",
        "    if (flag_incr and prior[1] > current[1]) or (not flag_incr and prior[1] < current[1]):\n",
        "        prior = current\n",
        "        continue\n",
        "    else:\n",
        "        extrema.append(prior)\n",
        "        prior = current\n",
        "        flag_incr = not flag_incr\n",
        "\n",
        "print(\"Точки экстремума:\")\n",
        "print(*extrema)"
      ],
      "metadata": {
        "colab": {
          "base_uri": "https://localhost:8080/"
        },
        "id": "aUA_674cBE7d",
        "outputId": "5eec39f8-ca22-4958-aa18-6bcb8593a8ec"
      },
      "execution_count": 12,
      "outputs": [
        {
          "output_type": "stream",
          "name": "stdout",
          "text": [
            "Точки экстремума:\n",
            "(-0.39, -32.2934502471160) (0.45, -26.5133423096216) (1.7, -74.1062343439542)\n"
          ]
        }
      ]
    },
    {
      "cell_type": "code",
      "source": [
        "points = list(zip(xs, ys))\n",
        "above, below = [], []\n",
        "flag_increase = False\n",
        "while len(points) >= 2:\n",
        "    counter = 0\n",
        "    if flag_increase:\n",
        "        while points[counter][0] < end and points[counter][1] > 0:\n",
        "            counter += 1\n",
        "        if counter != 0:\n",
        "            above.append([points[0][0], points[counter - 2][0]])\n",
        "        flag_increase = False\n",
        "    else:\n",
        "        while points[counter][0] < end and points[counter][1] < 0:\n",
        "            counter += 1\n",
        "        if counter != 0:\n",
        "            below.append([points[0][0], points[counter - 2][0]])\n",
        "        flag_increase = True\n",
        "    del points[:counter]\n",
        "\n",
        "print(\"Интервалы, на котором f > 0:\")\n",
        "print(*above)\n",
        "print(\"Интервалы, на котором f < 0:\")\n",
        "print(*below)"
      ],
      "metadata": {
        "colab": {
          "base_uri": "https://localhost:8080/"
        },
        "id": "ACs_jVuQBJ2T",
        "outputId": "f2f966e7-a8e1-4aaa-e2d7-af1559b03853"
      },
      "execution_count": 8,
      "outputs": [
        {
          "output_type": "stream",
          "name": "stdout",
          "text": [
            "Интервалы, на котором f > 0:\n",
            "[-3.0, -1.35] [2.28, 2.98]\n",
            "Интервалы, на котором f < 0:\n",
            "[-1.33, 2.26]\n"
          ]
        }
      ]
    }
  ]
}